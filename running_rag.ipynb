{
 "cells": [
  {
   "cell_type": "code",
   "execution_count": 1,
   "id": "64199ad3-282d-432f-b9d5-43779dd32c7e",
   "metadata": {},
   "outputs": [],
   "source": [
    "import os\n",
    "import json\n",
    "from tqdm import tqdm\n",
    "from dotenv import load_dotenv\n",
    "\n",
    "from openai import OpenAI\n",
    "from elasticsearch import Elasticsearch"
   ]
  },
  {
   "cell_type": "code",
   "execution_count": 2,
   "id": "1ade95f3-05cc-4e2c-b641-febf6f33b22f",
   "metadata": {},
   "outputs": [],
   "source": [
    "load_dotenv()\n",
    "api_key = os.getenv(\"OPENAI_API_KEY\")\n",
    "client = OpenAI(api_key=api_key)"
   ]
  },
  {
   "cell_type": "code",
   "execution_count": 3,
   "id": "cebeaf6a-39da-42c0-8f51-187c4aa22f23",
   "metadata": {},
   "outputs": [],
   "source": [
    "# load the running qa documents\n",
    "with open('documents.json', 'rt') as f_in:\n",
    "    docs_raw = json.load(f_in)"
   ]
  },
  {
   "cell_type": "code",
   "execution_count": 3,
   "id": "60d82633-b38a-4d08-9b37-58f32bbf3c45",
   "metadata": {},
   "outputs": [],
   "source": [
    "documents = []\n",
    "\n",
    "for course_dict in docs_raw:\n",
    "    for doc in course_dict['documents']:\n",
    "        doc['course'] = course_dict['course']\n",
    "        documents.append(doc)"
   ]
  },
  {
   "cell_type": "code",
   "execution_count": 4,
   "id": "8aa47395-d559-4952-9e19-9e563ee3e715",
   "metadata": {},
   "outputs": [
    {
     "data": {
      "text/plain": [
       "{'text': 'Intervalltraining ist eine Trainingsmethode, bei der sich intensive Belastungsphasen mit Erholungsphasen abwechseln. Durch diese Wechsel zwischen hoher und niedriger Belastung werden Ausdauer und Schnelligkeit effektiv verbessert, da der Körper sowohl anaerob als auch aerob gefordert wird.',\n",
       " 'section': 'Training',\n",
       " 'question': 'Was ist Intervalltraining?',\n",
       " 'course': 'running-assistant-rag'}"
      ]
     },
     "execution_count": 4,
     "metadata": {},
     "output_type": "execute_result"
    }
   ],
   "source": [
    "documents[0]"
   ]
  },
  {
   "cell_type": "code",
   "execution_count": 4,
   "id": "abfaf50b-74ec-473c-992f-8f2fdcc0450e",
   "metadata": {},
   "outputs": [],
   "source": [
    "es_client = Elasticsearch('http://localhost:9200')"
   ]
  },
  {
   "cell_type": "code",
   "execution_count": 5,
   "id": "9e405408-eee8-482b-8d56-6ba84673ba44",
   "metadata": {},
   "outputs": [
    {
     "data": {
      "text/plain": [
       "ObjectApiResponse({'name': '5e6af68a49e7', 'cluster_name': 'docker-cluster', 'cluster_uuid': '-zlyx-UFQ6SmB_FcuOnFtw', 'version': {'number': '9.0.1', 'build_flavor': 'default', 'build_type': 'docker', 'build_hash': '73f7594ea00db50aa7e941e151a5b3985f01e364', 'build_date': '2025-04-30T10:07:41.393025990Z', 'build_snapshot': False, 'lucene_version': '10.1.0', 'minimum_wire_compatibility_version': '8.18.0', 'minimum_index_compatibility_version': '8.0.0'}, 'tagline': 'You Know, for Search'})"
      ]
     },
     "execution_count": 5,
     "metadata": {},
     "output_type": "execute_result"
    }
   ],
   "source": [
    "es_client.info()"
   ]
  },
  {
   "cell_type": "code",
   "execution_count": 9,
   "id": "ddf439e1-67c3-4ed5-bfd9-27f4e8776ef4",
   "metadata": {},
   "outputs": [],
   "source": [
    "index_settings = {\n",
    "    \"settings\": {\n",
    "        \"number_of_shards\": 1,\n",
    "        \"number_of_replicas\": 0\n",
    "    },\n",
    "    \"mappings\": {\n",
    "        \"properties\": {\n",
    "            \"text\": {\"type\": \"text\"},\n",
    "            \"section\": {\"type\": \"text\"},\n",
    "            \"question\": {\"type\": \"text\"},\n",
    "            \"course\": {\"type\": \"keyword\"} \n",
    "        }\n",
    "    }\n",
    "}\n",
    "\n",
    "index_name = \"running-questions\""
   ]
  },
  {
   "cell_type": "code",
   "execution_count": null,
   "id": "ce59a743-3db0-47ad-b2db-19b92ea48de3",
   "metadata": {},
   "outputs": [],
   "source": [
    "# uncomment to delete index\n",
    "# if es_client.indices.exists(index=index_name):\n",
    "    # es_client.indices.delete(index=index_name)\n",
    "\n",
    "# only need to run when you run the notebook for the first time to create your index. Once the index is created, you don't need to set the index again\n",
    "es_client.indices.create(index=index_name, body=index_settings, request_timeout=60)"
   ]
  },
  {
   "cell_type": "code",
   "execution_count": 33,
   "id": "43b1f214-73a9-4b06-96f5-a17e8c17e1eb",
   "metadata": {},
   "outputs": [
    {
     "name": "stderr",
     "output_type": "stream",
     "text": [
      "  0%|                                                | 0/98 [00:00<?, ?it/s]/tmp/ipykernel_11373/2316373423.py:2: DeprecationWarning: Passing transport options in the API method is deprecated. Use 'Elasticsearch.options()' instead.\n",
      "  es_client.index(index=index_name, document=doc, request_timeout=60)\n",
      "100%|███████████████████████████████████████| 98/98 [00:01<00:00, 73.99it/s]\n"
     ]
    }
   ],
   "source": [
    "for doc in tqdm(documents):\n",
    "    es_client.index(index=index_name, document=doc, request_timeout=60)"
   ]
  },
  {
   "cell_type": "code",
   "execution_count": 10,
   "id": "7630cb19-beb3-4a31-90c4-536235d7df45",
   "metadata": {},
   "outputs": [],
   "source": [
    "query = 'Was ist Intervalltraining?'"
   ]
  },
  {
   "cell_type": "code",
   "execution_count": 11,
   "id": "b942bcc3-cae6-45de-bc14-2074273b6efb",
   "metadata": {},
   "outputs": [],
   "source": [
    "def elastic_search(query):\n",
    "    search_query = {\n",
    "        \"size\": 5,\n",
    "        \"query\": {\n",
    "            \"bool\": {\n",
    "                \"must\": {\n",
    "                    \"multi_match\": {\n",
    "                        \"query\": query,\n",
    "                        \"fields\": [\"question^3\", \"text\", \"section\"],\n",
    "                        \"type\": \"best_fields\"\n",
    "                    }\n",
    "                },\n",
    "                \"filter\": {\n",
    "                    \"term\": {\n",
    "                        \"course\": \"running-assistant-rag\"\n",
    "                    }\n",
    "                }\n",
    "            }\n",
    "        }\n",
    "    }\n",
    "\n",
    "    response = es_client.search(index=index_name, body=search_query)\n",
    "    \n",
    "    result_docs = []\n",
    "    \n",
    "    for hit in response['hits']['hits']:\n",
    "        result_docs.append(hit['_source'])\n",
    "    \n",
    "    return result_docs"
   ]
  },
  {
   "cell_type": "code",
   "execution_count": 12,
   "id": "44fe28c9-e803-4598-a844-bd38fbc87b34",
   "metadata": {},
   "outputs": [
    {
     "data": {
      "text/plain": [
       "[{'text': 'Barfußlaufen fördert die Fußmuskulatur, sollte aber langsam aufgebaut werden, um Verletzungen zu vermeiden.',\n",
       "  'section': 'Training',\n",
       "  'question': 'Wie beginnt man mit Barfußlaufen sicher?',\n",
       "  'course': 'running-assistant-rag'},\n",
       " {'text': 'Das Tragen von reflektierender Kleidung erhöht die Sichtbarkeit und Sicherheit beim Laufen in der Dunkelheit.',\n",
       "  'section': 'Ausrüstung',\n",
       "  'question': 'Wie kann ich beim Laufen im Dunkeln sicherer sein?',\n",
       "  'course': 'running-assistant-rag'},\n",
       " {'text': 'Der optimale Laufschuh sollte gut passen, eine ausreichende Dämpfung bieten und zu deinem Laufstil passen, um Verletzungen vorzubeugen.',\n",
       "  'section': 'Ausrüstung',\n",
       "  'question': 'Wie finde ich den richtigen Laufschuh?',\n",
       "  'course': 'running-assistant-rag'},\n",
       " {'text': 'Das richtige Tempo finden ist wichtig, um das Rennen effektiv durchzuhalten und das Risiko eines Leistungseinbruchs zu minimieren.',\n",
       "  'section': 'Wettkämpfe',\n",
       "  'question': 'Wie finde ich das richtige Renntempo?',\n",
       "  'course': 'running-assistant-rag'},\n",
       " {'text': 'Das Dehnen nach dem Lauf fördert die Beweglichkeit und unterstützt die Regeneration, sollte jedoch nicht zu intensiv oder statisch vor dem Laufen durchgeführt werden.',\n",
       "  'section': 'Training',\n",
       "  'question': 'Sollte man sich vor oder nach dem Laufen dehnen?',\n",
       "  'course': 'running-assistant-rag'}]"
      ]
     },
     "execution_count": 12,
     "metadata": {},
     "output_type": "execute_result"
    }
   ],
   "source": [
    "# search in running qa documents with elasticsearch\n",
    "elastic_search('Wie fange ich mit dem Laufen an?')"
   ]
  },
  {
   "cell_type": "code",
   "execution_count": 25,
   "id": "d1548571-9659-4374-ae7a-84a9004bc6fb",
   "metadata": {},
   "outputs": [],
   "source": [
    "def build_prompt(query, search_results):\n",
    "    prompt_template = \"\"\"\n",
    "You are a personal trainer specialized in running.\n",
    "\n",
    "Answer the QUESTION at the end based on the full CONTEXT below, which contains multiple relevant FAQ entries.\n",
    "Use **all available context entries** to form your answer. If multiple answers apply, summarize or combine them clearly.\n",
    "Don't mention the Entry number like [Entry 5] in your answer.\n",
    "\n",
    "QUESTION: {question}\n",
    "\n",
    "CONTEXT: \n",
    "{context}\n",
    "\"\"\".strip()\n",
    "\n",
    "    context_entries = []\n",
    "    \n",
    "    for i, doc in enumerate(search_results, start=1):\n",
    "        entry = (\n",
    "            f\"[Entry {i}]\\n\"\n",
    "            f\"Section: {doc['section']}\\n\"\n",
    "            f\"Question: {doc['question']}\\n\"\n",
    "            f\"Answer: {doc['text']}\"\n",
    "        )\n",
    "        context_entries.append(entry)\n",
    "\n",
    "    context = \"\\n\\n\".join(context_entries)\n",
    "    \n",
    "    prompt = prompt_template.format(question=query, context=context).strip()\n",
    "    return prompt"
   ]
  },
  {
   "cell_type": "code",
   "execution_count": 21,
   "id": "7b65ebb2-6393-41c3-934b-cc14589d8970",
   "metadata": {},
   "outputs": [],
   "source": [
    "def llm(prompt):\n",
    "    # uncomment to see full prompt\n",
    "    # print(prompt)\n",
    "    response = client.chat.completions.create(\n",
    "        model='gpt-4o',\n",
    "        messages=[{\"role\": \"user\", \"content\": prompt}],\n",
    "        temperature=1.5,\n",
    "        top_p=0.9,\n",
    "        frequency_penalty=0.0,\n",
    "        presence_penalty=0.0,\n",
    "        max_tokens=1000,\n",
    "    )\n",
    "    \n",
    "    return response.choices[0].message.content"
   ]
  },
  {
   "cell_type": "code",
   "execution_count": 15,
   "id": "6348ed13-d287-4ec8-b8b6-26c0795a8c5f",
   "metadata": {},
   "outputs": [],
   "source": [
    "def rag_pipeline(query):\n",
    "    context_docs = elastic_search(query)\n",
    "    prompt = build_prompt(query, context_docs)\n",
    "    answer = llm(prompt)\n",
    "    return answer"
   ]
  },
  {
   "cell_type": "code",
   "execution_count": 16,
   "id": "6e028c83-4c8c-4f59-ad43-fa0d0866a414",
   "metadata": {},
   "outputs": [],
   "source": [
    "query = 'Wie fange ich mit dem Laufen an?'"
   ]
  },
  {
   "cell_type": "code",
   "execution_count": 26,
   "id": "131b8c17-75be-4b47-8cde-560fb92bbe1f",
   "metadata": {},
   "outputs": [
    {
     "data": {
      "text/plain": [
       "'Um mit dem Laufen anzufangen, ist es wichtig, langsam zu starten und den Körper schrittweise an die neue Aktivität zu gewöhnen, um Verletzungen zu vermeiden. Beginnen Sie mit kurzen Strecken und steigern Sie allmählich die Distanz und Intensität Ihres Lauftrainings. Achten Sie darauf, sich vor und nach dem Laufen angemessen aufzuwärmen und zu dehnen, wobei das Dehnen nach dem Lauf helfen kann, die Beweglichkeit zu fördern und die Regeneration zu unterstützen. Eine wichtige Komponente ist auch das Tragen geeigneter Laufschuhe, die gut passen, ausreichende Dämpfung bieten und Ihrem individuellen Laufstil entsprechen. Dies trägt ebenfalls dazu bei, Verletzungen zu verhindern.'"
      ]
     },
     "execution_count": 26,
     "metadata": {},
     "output_type": "execute_result"
    }
   ],
   "source": [
    "# answer using qa documents for rag\n",
    "rag_pipeline(query)"
   ]
  },
  {
   "cell_type": "code",
   "execution_count": 23,
   "id": "88f5dc32-fe26-44d9-924c-23ef697d6cd0",
   "metadata": {},
   "outputs": [
    {
     "data": {
      "text/plain": [
       "'Mit dem Laufen anzufangen ist eine großartige Entscheidung für Ihre Gesundheit und Ihr Wohlbefinden. Hier sind einige Tipps, um Ihnen den Einstieg zu erleichtern:\\n\\n1. **Ziele setzen:** Definieren Sie klare, realistische Ziele. Möchten Sie fitter werden, abnehmen oder an einem Wettlauf teilnehmen? Dies hilft Ihnen, motiviert zu bleiben.\\n\\n2. **Richtige Ausrüstung:** Investieren Sie in ein Paar gute Laufschuhe, die zu Ihrem Fußtyp und Laufstil passen. Fachgeschäfte bieten oft eine Beratung und Analyse an.\\n\\n3. **Langsam anfangen:** Beginnen Sie mit einem Wechsel aus Laufen und Gehen. Zum Beispiel: 1 Minute laufen, 2 Minuten gehen, und das für 20-30 Minuten. Steigern Sie langsam die Laufanteile.\\n\\n4. **Aufwärmen und Abkühlen:** Starten Sie jede Laufeinheit mit einem Aufwärmen, zum Beispiel leichtes Gehen und dynamische Dehnübungen. Vergessen Sie nicht, am Ende zu dehnen, um die Regeneration zu fördern.\\n\\n5. **Regelmäßigkeit:** Versuchen Sie, regelmäßig zu laufen, am besten 3-mal pro Woche, um Fortschritte zu machen und Verletzungen zu vermeiden.\\n\\n6. **Technik beachten:** Achten Sie auf Ihre Lauftechnik. Laufen Sie mit einem aufrechten Oberkörper und entspannten Schultern. Ihre Füße sollten direkt unter Ihrem Körper landen.\\n\\n7. **Körper hören:** Achten Sie auf die Signale Ihres Körpers. Wenn Sie Schmerzen verspüren, machen Sie eine Pause und ruhen Sie sich aus, um Verletzungen zu vermeiden.\\n\\n8. **Ernährung und Hydration:** Achten Sie auf eine ausgewogene Ernährung und trinken Sie ausreichend Wasser, besonders vor und nach dem Laufen.\\n\\n9. **Fortschritte festhalten:** Halten Sie Ihre Fortschritte in einem Tagebuch fest oder nutzen Sie Apps, um motiviert zu bleiben und Ihre Verbesserungen zu verfolgen.\\n\\n10. **Motivation:** Laufen Sie mit einem Freund, treten Sie einer Laufgruppe bei oder hören Sie Musik/Podcasts, um das Laufen unterhaltsamer zu gestalten.\\n\\nDenken Sie daran, dass es Zeit braucht, um Kondition und Ausdauer aufzubauen. Seien Sie geduldig mit sich selbst und bleiben Sie motiviert. Viel Erfolg!'"
      ]
     },
     "execution_count": 23,
     "metadata": {},
     "output_type": "execute_result"
    }
   ],
   "source": [
    "# answer from gpt-4o without using rag\n",
    "llm(query)"
   ]
  },
  {
   "cell_type": "code",
   "execution_count": null,
   "id": "6d7750c1-5d7f-4bfc-8b27-cec4028cf5fb",
   "metadata": {},
   "outputs": [],
   "source": []
  },
  {
   "cell_type": "code",
   "execution_count": null,
   "id": "0c3ccd20-f0b2-4952-aa1f-066455aef697",
   "metadata": {},
   "outputs": [],
   "source": []
  }
 ],
 "metadata": {
  "kernelspec": {
   "display_name": "Python 3 (ipykernel)",
   "language": "python",
   "name": "python3"
  },
  "language_info": {
   "codemirror_mode": {
    "name": "ipython",
    "version": 3
   },
   "file_extension": ".py",
   "mimetype": "text/x-python",
   "name": "python",
   "nbconvert_exporter": "python",
   "pygments_lexer": "ipython3",
   "version": "3.12.1"
  }
 },
 "nbformat": 4,
 "nbformat_minor": 5
}
