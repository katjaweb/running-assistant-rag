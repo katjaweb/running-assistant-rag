{
 "cells": [
  {
   "cell_type": "code",
   "execution_count": 1,
   "id": "64199ad3-282d-432f-b9d5-43779dd32c7e",
   "metadata": {},
   "outputs": [
    {
     "name": "stderr",
     "output_type": "stream",
     "text": [
      "/home/codespace/.local/share/virtualenvs/running-assistant-rag-j-iIWklV/lib/python3.12/site-packages/tqdm/auto.py:21: TqdmWarning: IProgress not found. Please update jupyter and ipywidgets. See https://ipywidgets.readthedocs.io/en/stable/user_install.html\n",
      "  from .autonotebook import tqdm as notebook_tqdm\n"
     ]
    }
   ],
   "source": [
    "import os\n",
    "import json\n",
    "from tqdm import tqdm\n",
    "from dotenv import load_dotenv\n",
    "\n",
    "from openai import OpenAI\n",
    "from elasticsearch import Elasticsearch\n",
    "from sentence_transformers import SentenceTransformer"
   ]
  },
  {
   "cell_type": "code",
   "execution_count": 3,
   "id": "1ade95f3-05cc-4e2c-b641-febf6f33b22f",
   "metadata": {},
   "outputs": [],
   "source": [
    "load_dotenv()\n",
    "api_key = os.getenv(\"OPENAI_API_KEY\")\n",
    "client = OpenAI(api_key=api_key)"
   ]
  },
  {
   "cell_type": "code",
   "execution_count": 25,
   "id": "cebeaf6a-39da-42c0-8f51-187c4aa22f23",
   "metadata": {},
   "outputs": [],
   "source": [
    "# load the running qa documents\n",
    "with open('documents.json', 'rt') as f_in:\n",
    "    docs_raw = json.load(f_in)"
   ]
  },
  {
   "cell_type": "code",
   "execution_count": 26,
   "id": "60d82633-b38a-4d08-9b37-58f32bbf3c45",
   "metadata": {},
   "outputs": [],
   "source": [
    "documents = []\n",
    "\n",
    "for course_dict in docs_raw:\n",
    "    for doc in course_dict['documents']:\n",
    "        doc['course'] = course_dict['course']\n",
    "        documents.append(doc)"
   ]
  },
  {
   "cell_type": "code",
   "execution_count": 27,
   "id": "8aa47395-d559-4952-9e19-9e563ee3e715",
   "metadata": {},
   "outputs": [
    {
     "data": {
      "text/plain": [
       "{'text': 'Intervalltraining ist eine Trainingsmethode, bei der sich intensive Belastungsphasen mit Erholungsphasen abwechseln. Durch diese Wechsel zwischen hoher und niedriger Belastung werden Ausdauer und Schnelligkeit effektiv verbessert, da der Körper sowohl anaerob als auch aerob gefordert wird.',\n",
       " 'section': 'Training',\n",
       " 'question': 'Was ist Intervalltraining?',\n",
       " 'course': 'running-assistant-rag'}"
      ]
     },
     "execution_count": 27,
     "metadata": {},
     "output_type": "execute_result"
    }
   ],
   "source": [
    "documents[0]"
   ]
  },
  {
   "cell_type": "code",
   "execution_count": 8,
   "id": "abfaf50b-74ec-473c-992f-8f2fdcc0450e",
   "metadata": {},
   "outputs": [],
   "source": [
    "es_client = Elasticsearch('http://localhost:9200')"
   ]
  },
  {
   "cell_type": "code",
   "execution_count": 9,
   "id": "9e405408-eee8-482b-8d56-6ba84673ba44",
   "metadata": {},
   "outputs": [
    {
     "data": {
      "text/plain": [
       "ObjectApiResponse({'name': 'a8cb232ba2b1', 'cluster_name': 'docker-cluster', 'cluster_uuid': '-zlyx-UFQ6SmB_FcuOnFtw', 'version': {'number': '9.0.1', 'build_flavor': 'default', 'build_type': 'docker', 'build_hash': '73f7594ea00db50aa7e941e151a5b3985f01e364', 'build_date': '2025-04-30T10:07:41.393025990Z', 'build_snapshot': False, 'lucene_version': '10.1.0', 'minimum_wire_compatibility_version': '8.18.0', 'minimum_index_compatibility_version': '8.0.0'}, 'tagline': 'You Know, for Search'})"
      ]
     },
     "execution_count": 9,
     "metadata": {},
     "output_type": "execute_result"
    }
   ],
   "source": [
    "es_client.info()"
   ]
  },
  {
   "cell_type": "code",
   "execution_count": 10,
   "id": "ddf439e1-67c3-4ed5-bfd9-27f4e8776ef4",
   "metadata": {},
   "outputs": [],
   "source": [
    "index_settings = {\n",
    "    \"settings\": {\n",
    "        \"number_of_shards\": 1,\n",
    "        \"number_of_replicas\": 0\n",
    "    },\n",
    "    \"mappings\": {\n",
    "        \"properties\": {\n",
    "            \"text\": {\"type\": \"text\"},\n",
    "            \"section\": {\"type\": \"text\"},\n",
    "            \"question\": {\"type\": \"text\"},\n",
    "            \"course\": {\"type\": \"keyword\"} \n",
    "        }\n",
    "    }\n",
    "}\n",
    "\n",
    "index_name = \"running-questions\""
   ]
  },
  {
   "cell_type": "code",
   "execution_count": 2,
   "id": "ce59a743-3db0-47ad-b2db-19b92ea48de3",
   "metadata": {},
   "outputs": [
    {
     "ename": "NameError",
     "evalue": "name 'es_client' is not defined",
     "output_type": "error",
     "traceback": [
      "\u001b[31m---------------------------------------------------------------------------\u001b[39m",
      "\u001b[31mNameError\u001b[39m                                 Traceback (most recent call last)",
      "\u001b[36mCell\u001b[39m\u001b[36m \u001b[39m\u001b[32mIn[2]\u001b[39m\u001b[32m, line 1\u001b[39m\n\u001b[32m----> \u001b[39m\u001b[32m1\u001b[39m \u001b[43mes_client\u001b[49m.indices.delete(index=index_name, ignore_unavailable=\u001b[38;5;28;01mTrue\u001b[39;00m)\n\u001b[32m      2\u001b[39m es_client.indices.create(index=index_name, body=index_settings, request_timeout=\u001b[32m60\u001b[39m)\n",
      "\u001b[31mNameError\u001b[39m: name 'es_client' is not defined"
     ]
    }
   ],
   "source": [
    "es_client.indices.delete(index=index_name, ignore_unavailable=True)\n",
    "es_client.indices.create(index=index_name, body=index_settings, request_timeout=60)"
   ]
  },
  {
   "cell_type": "code",
   "execution_count": 12,
   "id": "43b1f214-73a9-4b06-96f5-a17e8c17e1eb",
   "metadata": {},
   "outputs": [
    {
     "name": "stderr",
     "output_type": "stream",
     "text": [
      "  0%|          | 0/98 [00:00<?, ?it/s]/tmp/ipykernel_4735/1667570353.py:3: DeprecationWarning: Passing transport options in the API method is deprecated. Use 'Elasticsearch.options()' instead.\n",
      "  es_client.index(index=index_name, document=doc, request_timeout=60)\n",
      "100%|██████████| 98/98 [00:02<00:00, 34.44it/s]\n"
     ]
    }
   ],
   "source": [
    "for doc in tqdm(documents):\n",
    "    try:\n",
    "        es_client.index(index=index_name, document=doc, request_timeout=60)\n",
    "    except Exception as e:\n",
    "        print(e)"
   ]
  },
  {
   "cell_type": "code",
   "execution_count": 13,
   "id": "7630cb19-beb3-4a31-90c4-536235d7df45",
   "metadata": {},
   "outputs": [],
   "source": [
    "query = 'Was ist Intervalltraining?'"
   ]
  },
  {
   "cell_type": "code",
   "execution_count": 14,
   "id": "b942bcc3-cae6-45de-bc14-2074273b6efb",
   "metadata": {},
   "outputs": [],
   "source": [
    "def elastic_search(query):\n",
    "    search_query = {\n",
    "        \"size\": 5,\n",
    "        \"query\": {\n",
    "            \"bool\": {\n",
    "                \"must\": {\n",
    "                    \"multi_match\": {\n",
    "                        \"query\": query,\n",
    "                        \"fields\": [\"question^3\", \"text\", \"section\"],\n",
    "                        \"type\": \"best_fields\"\n",
    "                    }\n",
    "                },\n",
    "                \"filter\": {\n",
    "                    \"term\": {\n",
    "                        \"course\": \"running-assistant-rag\"\n",
    "                    }\n",
    "                }\n",
    "            }\n",
    "        }\n",
    "    }\n",
    "\n",
    "    response = es_client.search(index=index_name, body=search_query)\n",
    "    \n",
    "    result_docs = []\n",
    "    \n",
    "    for hit in response['hits']['hits']:\n",
    "        result_docs.append(hit['_source'])\n",
    "    \n",
    "    return result_docs"
   ]
  },
  {
   "cell_type": "code",
   "execution_count": 15,
   "id": "44fe28c9-e803-4598-a844-bd38fbc87b34",
   "metadata": {},
   "outputs": [
    {
     "data": {
      "text/plain": [
       "[{'text': 'Barfußlaufen fördert die Fußmuskulatur, sollte aber langsam aufgebaut werden, um Verletzungen zu vermeiden.',\n",
       "  'section': 'Training',\n",
       "  'question': 'Wie beginnt man mit Barfußlaufen sicher?',\n",
       "  'course': 'running-assistant-rag'},\n",
       " {'text': 'Das Tragen von reflektierender Kleidung erhöht die Sichtbarkeit und Sicherheit beim Laufen in der Dunkelheit.',\n",
       "  'section': 'Ausrüstung',\n",
       "  'question': 'Wie kann ich beim Laufen im Dunkeln sicherer sein?',\n",
       "  'course': 'running-assistant-rag'},\n",
       " {'text': 'Der optimale Laufschuh sollte gut passen, eine ausreichende Dämpfung bieten und zu deinem Laufstil passen, um Verletzungen vorzubeugen.',\n",
       "  'section': 'Ausrüstung',\n",
       "  'question': 'Wie finde ich den richtigen Laufschuh?',\n",
       "  'course': 'running-assistant-rag'},\n",
       " {'text': 'Das richtige Tempo finden ist wichtig, um das Rennen effektiv durchzuhalten und das Risiko eines Leistungseinbruchs zu minimieren.',\n",
       "  'section': 'Wettkämpfe',\n",
       "  'question': 'Wie finde ich das richtige Renntempo?',\n",
       "  'course': 'running-assistant-rag'},\n",
       " {'text': 'Das Dehnen nach dem Lauf fördert die Beweglichkeit und unterstützt die Regeneration, sollte jedoch nicht zu intensiv oder statisch vor dem Laufen durchgeführt werden.',\n",
       "  'section': 'Training',\n",
       "  'question': 'Sollte man sich vor oder nach dem Laufen dehnen?',\n",
       "  'course': 'running-assistant-rag'}]"
      ]
     },
     "execution_count": 15,
     "metadata": {},
     "output_type": "execute_result"
    }
   ],
   "source": [
    "# search in running qa documents with elasticsearch\n",
    "elastic_search('Wie fange ich mit dem Laufen an?')"
   ]
  },
  {
   "cell_type": "code",
   "execution_count": 20,
   "id": "d1548571-9659-4374-ae7a-84a9004bc6fb",
   "metadata": {},
   "outputs": [],
   "source": [
    "def build_prompt(query, search_results):\n",
    "    prompt_template = \"\"\"\n",
    "You are a personal trainer specialized in running.\n",
    "\n",
    "Answer the QUESTION at the end based on the full CONTEXT below, which contains multiple relevant FAQ entries.\n",
    "Use **all available context entries** to form your answer. If multiple answers apply, summarize or combine them clearly.\n",
    "Don't mention the Entry number like [Entry 5] in your answer.\n",
    "\n",
    "QUESTION: {question}\n",
    "\n",
    "CONTEXT: \n",
    "{context}\n",
    "\"\"\".strip()\n",
    "\n",
    "    context_entries = []\n",
    "    \n",
    "    for i, doc in enumerate(search_results, start=1):\n",
    "        entry = (\n",
    "            f\"[Entry {i}]\\n\"\n",
    "            f\"Section: {doc['section']}\\n\"\n",
    "            f\"Question: {doc['question']}\\n\"\n",
    "            f\"Answer: {doc['text']}\"\n",
    "        )\n",
    "        context_entries.append(entry)\n",
    "\n",
    "    context = \"\\n\\n\".join(context_entries)\n",
    "    \n",
    "    prompt = prompt_template.format(question=query, context=context).strip()\n",
    "    return prompt"
   ]
  },
  {
   "cell_type": "code",
   "execution_count": 21,
   "id": "7b65ebb2-6393-41c3-934b-cc14589d8970",
   "metadata": {},
   "outputs": [],
   "source": [
    "def llm(prompt):\n",
    "    # uncomment to see full prompt\n",
    "    # print(prompt)\n",
    "    response = client.chat.completions.create(\n",
    "        model='gpt-4o',\n",
    "        messages=[{\"role\": \"user\", \"content\": prompt}],\n",
    "        temperature=1.5,\n",
    "        top_p=0.9,\n",
    "        frequency_penalty=0.0,\n",
    "        presence_penalty=0.0,\n",
    "        max_tokens=1000,\n",
    "    )\n",
    "    \n",
    "    return response.choices[0].message.content"
   ]
  },
  {
   "cell_type": "code",
   "execution_count": 18,
   "id": "6348ed13-d287-4ec8-b8b6-26c0795a8c5f",
   "metadata": {},
   "outputs": [],
   "source": [
    "def rag_pipeline(query):\n",
    "    context_docs = elastic_search(query)\n",
    "    prompt = build_prompt(query, context_docs)\n",
    "    answer = llm(prompt)\n",
    "    return answer"
   ]
  },
  {
   "cell_type": "code",
   "execution_count": 19,
   "id": "6e028c83-4c8c-4f59-ad43-fa0d0866a414",
   "metadata": {},
   "outputs": [],
   "source": [
    "query = 'Wie fange ich mit dem Laufen an?'"
   ]
  },
  {
   "cell_type": "code",
   "execution_count": 20,
   "id": "131b8c17-75be-4b47-8cde-560fb92bbe1f",
   "metadata": {},
   "outputs": [
    {
     "data": {
      "text/plain": [
       "'Um mit dem Laufen anzufangen, solltest du es langsam und schrittweise angehen, um Verletzungen zu vermeiden. Wähle den richtigen Laufschuh, der gut passt, eine ausreichende Dämpfung bietet und zu deinem Laufstil passt. Achte auch darauf, nach dem Laufen zu dehnen, um die Beweglichkeit zu fördern und die Regeneration zu unterstützen.'"
      ]
     },
     "execution_count": 20,
     "metadata": {},
     "output_type": "execute_result"
    }
   ],
   "source": [
    "# answer using qa documents for rag\n",
    "rag_pipeline(query)"
   ]
  },
  {
   "cell_type": "code",
   "execution_count": 23,
   "id": "88f5dc32-fe26-44d9-924c-23ef697d6cd0",
   "metadata": {},
   "outputs": [
    {
     "data": {
      "text/plain": [
       "'Mit dem Laufen anzufangen ist eine großartige Entscheidung für Ihre Gesundheit und Ihr Wohlbefinden. Hier sind einige Tipps, um Ihnen den Einstieg zu erleichtern:\\n\\n1. **Ziele setzen:** Definieren Sie klare, realistische Ziele. Möchten Sie fitter werden, abnehmen oder an einem Wettlauf teilnehmen? Dies hilft Ihnen, motiviert zu bleiben.\\n\\n2. **Richtige Ausrüstung:** Investieren Sie in ein Paar gute Laufschuhe, die zu Ihrem Fußtyp und Laufstil passen. Fachgeschäfte bieten oft eine Beratung und Analyse an.\\n\\n3. **Langsam anfangen:** Beginnen Sie mit einem Wechsel aus Laufen und Gehen. Zum Beispiel: 1 Minute laufen, 2 Minuten gehen, und das für 20-30 Minuten. Steigern Sie langsam die Laufanteile.\\n\\n4. **Aufwärmen und Abkühlen:** Starten Sie jede Laufeinheit mit einem Aufwärmen, zum Beispiel leichtes Gehen und dynamische Dehnübungen. Vergessen Sie nicht, am Ende zu dehnen, um die Regeneration zu fördern.\\n\\n5. **Regelmäßigkeit:** Versuchen Sie, regelmäßig zu laufen, am besten 3-mal pro Woche, um Fortschritte zu machen und Verletzungen zu vermeiden.\\n\\n6. **Technik beachten:** Achten Sie auf Ihre Lauftechnik. Laufen Sie mit einem aufrechten Oberkörper und entspannten Schultern. Ihre Füße sollten direkt unter Ihrem Körper landen.\\n\\n7. **Körper hören:** Achten Sie auf die Signale Ihres Körpers. Wenn Sie Schmerzen verspüren, machen Sie eine Pause und ruhen Sie sich aus, um Verletzungen zu vermeiden.\\n\\n8. **Ernährung und Hydration:** Achten Sie auf eine ausgewogene Ernährung und trinken Sie ausreichend Wasser, besonders vor und nach dem Laufen.\\n\\n9. **Fortschritte festhalten:** Halten Sie Ihre Fortschritte in einem Tagebuch fest oder nutzen Sie Apps, um motiviert zu bleiben und Ihre Verbesserungen zu verfolgen.\\n\\n10. **Motivation:** Laufen Sie mit einem Freund, treten Sie einer Laufgruppe bei oder hören Sie Musik/Podcasts, um das Laufen unterhaltsamer zu gestalten.\\n\\nDenken Sie daran, dass es Zeit braucht, um Kondition und Ausdauer aufzubauen. Seien Sie geduldig mit sich selbst und bleiben Sie motiviert. Viel Erfolg!'"
      ]
     },
     "execution_count": 23,
     "metadata": {},
     "output_type": "execute_result"
    }
   ],
   "source": [
    "# answer from gpt-4o without using rag\n",
    "llm(query)"
   ]
  },
  {
   "cell_type": "markdown",
   "id": "fd0c7f16",
   "metadata": {},
   "source": [
    "# Implement Vector Search"
   ]
  },
  {
   "cell_type": "code",
   "execution_count": 21,
   "id": "6d7750c1-5d7f-4bfc-8b27-cec4028cf5fb",
   "metadata": {},
   "outputs": [],
   "source": [
    "model = SentenceTransformer(\"all-mpnet-base-v2\")"
   ]
  },
  {
   "cell_type": "code",
   "execution_count": 22,
   "id": "0c3ccd20-f0b2-4952-aa1f-066455aef697",
   "metadata": {},
   "outputs": [],
   "source": [
    "#creating embeddings/dense vector using the pre-trained model\n",
    "operations = []\n",
    "for doc in documents:\n",
    "    # Transforming the title into an embedding using the model\n",
    "    doc[\"text_vector\"] = model.encode(doc[\"text\"]).tolist()\n",
    "    operations.append(doc)"
   ]
  },
  {
   "cell_type": "code",
   "execution_count": 25,
   "id": "d7f8eaef",
   "metadata": {},
   "outputs": [
    {
     "data": {
      "text/plain": [
       "{'text': 'Intervalltraining ist eine Trainingsmethode, bei der sich intensive Belastungsphasen mit Erholungsphasen abwechseln. Durch diese Wechsel zwischen hoher und niedriger Belastung werden Ausdauer und Schnelligkeit effektiv verbessert, da der Körper sowohl anaerob als auch aerob gefordert wird.',\n",
       " 'section': 'Training',\n",
       " 'question': 'Was ist Intervalltraining?',\n",
       " 'course': 'running-assistant-rag',\n",
       " 'text_vector': [-0.04246851056814194,\n",
       "  -0.06532343477010727,\n",
       "  -0.0055569554679095745,\n",
       "  -0.0009684512042440474,\n",
       "  -0.03175415098667145,\n",
       "  -0.007610880769789219,\n",
       "  0.008620666339993477,\n",
       "  0.038966089487075806,\n",
       "  -0.01865781657397747,\n",
       "  0.012907765805721283,\n",
       "  0.02927362732589245,\n",
       "  0.0635496973991394,\n",
       "  -0.03963595628738403,\n",
       "  0.009810736402869225,\n",
       "  -0.021428510546684265,\n",
       "  -0.08541204780340195,\n",
       "  -0.005765752401202917,\n",
       "  0.0073867253959178925,\n",
       "  -0.0655638724565506,\n",
       "  0.016591601073741913,\n",
       "  0.03275738283991814,\n",
       "  -0.03081679344177246,\n",
       "  -0.023442065343260765,\n",
       "  -0.0046876342967152596,\n",
       "  0.04378773272037506,\n",
       "  -0.05974959209561348,\n",
       "  0.006910583935678005,\n",
       "  -0.07405591011047363,\n",
       "  0.05589953809976578,\n",
       "  -0.04530584067106247,\n",
       "  0.036400116980075836,\n",
       "  0.009785388596355915,\n",
       "  0.0746690183877945,\n",
       "  0.003993115853518248,\n",
       "  2.537000455049565e-06,\n",
       "  0.03413204476237297,\n",
       "  0.011309041641652584,\n",
       "  -0.001583689241670072,\n",
       "  -0.01741589419543743,\n",
       "  -0.052234917879104614,\n",
       "  0.036079008132219315,\n",
       "  -0.017628591507673264,\n",
       "  0.07203134894371033,\n",
       "  -0.0036877181846648455,\n",
       "  -0.02565302513539791,\n",
       "  0.0559631809592247,\n",
       "  -0.061901357024908066,\n",
       "  -0.036682095378637314,\n",
       "  0.05493580177426338,\n",
       "  0.014180878177285194,\n",
       "  0.007855363190174103,\n",
       "  0.07967126369476318,\n",
       "  -0.054490040987730026,\n",
       "  -0.003509378992021084,\n",
       "  0.019841771572828293,\n",
       "  0.036363184452056885,\n",
       "  -0.03930412232875824,\n",
       "  0.05751902982592583,\n",
       "  0.05919811502099037,\n",
       "  0.02841966785490513,\n",
       "  -0.038584351539611816,\n",
       "  -0.0028685673605650663,\n",
       "  0.0649024024605751,\n",
       "  -0.012454729527235031,\n",
       "  0.030927596613764763,\n",
       "  -0.01066296175122261,\n",
       "  -0.09109275043010712,\n",
       "  -0.009103918448090553,\n",
       "  -0.01191460806876421,\n",
       "  -0.027017364278435707,\n",
       "  0.022168975323438644,\n",
       "  0.009118310175836086,\n",
       "  0.005143230780959129,\n",
       "  0.06487567722797394,\n",
       "  0.015814708545804024,\n",
       "  -0.02183152548968792,\n",
       "  0.008016885258257389,\n",
       "  -0.019814373925328255,\n",
       "  -0.025914479047060013,\n",
       "  0.008242802694439888,\n",
       "  0.03842215985059738,\n",
       "  0.02562437765300274,\n",
       "  -0.039598461240530014,\n",
       "  -0.012480161152780056,\n",
       "  0.03471250832080841,\n",
       "  -0.010986232198774815,\n",
       "  -0.007518006954342127,\n",
       "  -0.02922089211642742,\n",
       "  0.05861842632293701,\n",
       "  0.011850275099277496,\n",
       "  0.04535806179046631,\n",
       "  -0.015617970377206802,\n",
       "  -0.008190087042748928,\n",
       "  0.015845470130443573,\n",
       "  0.0341341458261013,\n",
       "  -0.030874518677592278,\n",
       "  -0.06262732297182083,\n",
       "  0.0523170530796051,\n",
       "  0.02051306888461113,\n",
       "  0.06945464760065079,\n",
       "  0.009804896079003811,\n",
       "  0.011361001059412956,\n",
       "  0.07244142889976501,\n",
       "  0.003509592730551958,\n",
       "  -0.015642886981368065,\n",
       "  -0.019999388605356216,\n",
       "  0.02700262889266014,\n",
       "  -0.06071401759982109,\n",
       "  0.007025696337223053,\n",
       "  0.06314417719841003,\n",
       "  -0.036147795617580414,\n",
       "  -0.00918106734752655,\n",
       "  -0.034818779677152634,\n",
       "  0.017576053738594055,\n",
       "  -0.009539041668176651,\n",
       "  -0.019334394484758377,\n",
       "  -0.07296069711446762,\n",
       "  0.002005375921726227,\n",
       "  -0.04243270307779312,\n",
       "  -0.03923353552818298,\n",
       "  -0.056250788271427155,\n",
       "  0.00936588179320097,\n",
       "  0.023190882056951523,\n",
       "  -0.03844289854168892,\n",
       "  0.006500853691250086,\n",
       "  -0.05982067063450813,\n",
       "  0.02011667750775814,\n",
       "  0.009810195304453373,\n",
       "  -0.0249545369297266,\n",
       "  -0.01375584676861763,\n",
       "  0.017082318663597107,\n",
       "  0.021817976608872414,\n",
       "  -0.05610695481300354,\n",
       "  -0.008951390162110329,\n",
       "  0.01203542947769165,\n",
       "  -0.06696338951587677,\n",
       "  -0.004138115327805281,\n",
       "  0.03934282436966896,\n",
       "  0.0191646758466959,\n",
       "  -0.04155382513999939,\n",
       "  0.03325536102056503,\n",
       "  -0.013196505606174469,\n",
       "  -0.034862618893384933,\n",
       "  -0.034884724766016006,\n",
       "  -0.018620586022734642,\n",
       "  -0.015913493931293488,\n",
       "  0.011002243496477604,\n",
       "  0.05789738520979881,\n",
       "  0.0020943970885127783,\n",
       "  0.024106793105602264,\n",
       "  -0.013464563526213169,\n",
       "  0.033541616052389145,\n",
       "  -0.05425620079040527,\n",
       "  0.030810551717877388,\n",
       "  -0.004627374932169914,\n",
       "  0.030518654733896255,\n",
       "  0.03293367475271225,\n",
       "  0.018830090761184692,\n",
       "  0.0598929189145565,\n",
       "  -0.029003886505961418,\n",
       "  0.004393466282635927,\n",
       "  0.009012723341584206,\n",
       "  -0.0068364511243999004,\n",
       "  -0.015531815588474274,\n",
       "  0.029591841623187065,\n",
       "  -0.03242895007133484,\n",
       "  0.007014330476522446,\n",
       "  -0.03590991720557213,\n",
       "  -0.03262779489159584,\n",
       "  0.011499104090034962,\n",
       "  0.049245208501815796,\n",
       "  -0.020963154733181,\n",
       "  -0.06777447462081909,\n",
       "  0.007043096702545881,\n",
       "  -0.021133501082658768,\n",
       "  0.005485819652676582,\n",
       "  0.03163965046405792,\n",
       "  0.026105718687176704,\n",
       "  -0.0032235910184681416,\n",
       "  -0.06766540557146072,\n",
       "  0.024601509794592857,\n",
       "  0.04479941725730896,\n",
       "  -0.020369891077280045,\n",
       "  -0.026212099939584732,\n",
       "  0.04968275502324104,\n",
       "  0.008078782819211483,\n",
       "  0.018559277057647705,\n",
       "  -0.007898708805441856,\n",
       "  -0.0011607357300817966,\n",
       "  -0.04439801722764969,\n",
       "  0.028885362669825554,\n",
       "  0.02178276889026165,\n",
       "  0.025658078491687775,\n",
       "  -0.012981956824660301,\n",
       "  0.0029983618296682835,\n",
       "  -0.019399305805563927,\n",
       "  0.018990831449627876,\n",
       "  0.07041218876838684,\n",
       "  -0.002688033739104867,\n",
       "  0.07905889302492142,\n",
       "  0.041233230382204056,\n",
       "  0.011118928901851177,\n",
       "  -0.07962027937173843,\n",
       "  0.01929507777094841,\n",
       "  -0.01673818565905094,\n",
       "  -0.046874627470970154,\n",
       "  0.019655775278806686,\n",
       "  -0.038227200508117676,\n",
       "  0.08876503258943558,\n",
       "  0.0006132989656180143,\n",
       "  -0.03606110066175461,\n",
       "  0.01956574246287346,\n",
       "  -0.00045695147127844393,\n",
       "  -0.003267827210947871,\n",
       "  0.04495854675769806,\n",
       "  -0.03131101280450821,\n",
       "  -0.013196472078561783,\n",
       "  0.006461508106440306,\n",
       "  -0.05266819894313812,\n",
       "  0.05401775613427162,\n",
       "  -0.06988582015037537,\n",
       "  0.0925697609782219,\n",
       "  -0.10047794878482819,\n",
       "  -0.008187818340957165,\n",
       "  -0.07078995555639267,\n",
       "  -0.01964753307402134,\n",
       "  -0.0019081048667430878,\n",
       "  -0.017077021300792694,\n",
       "  -0.04350530356168747,\n",
       "  -0.03041980415582657,\n",
       "  -0.04316089674830437,\n",
       "  0.00041196178062818944,\n",
       "  -0.030149219557642937,\n",
       "  -0.029429268091917038,\n",
       "  0.001221093232743442,\n",
       "  0.03379092738032341,\n",
       "  0.016832487657666206,\n",
       "  -0.005133534781634808,\n",
       "  0.027615679427981377,\n",
       "  -0.002689722925424576,\n",
       "  0.004203154239803553,\n",
       "  -0.06396906822919846,\n",
       "  -0.00761675788089633,\n",
       "  -0.023261597380042076,\n",
       "  -0.006215943023562431,\n",
       "  0.04333142191171646,\n",
       "  -0.004651091992855072,\n",
       "  0.01920333318412304,\n",
       "  0.019227344542741776,\n",
       "  0.01869729347527027,\n",
       "  -0.03575071319937706,\n",
       "  -0.0409480556845665,\n",
       "  -0.08286580443382263,\n",
       "  0.015522717498242855,\n",
       "  0.022409915924072266,\n",
       "  -0.04922574758529663,\n",
       "  0.00935570802539587,\n",
       "  0.007768238428980112,\n",
       "  -0.04407883808016777,\n",
       "  -0.045455750077962875,\n",
       "  0.0756382942199707,\n",
       "  -0.003720275592058897,\n",
       "  -0.02622661367058754,\n",
       "  0.0416761189699173,\n",
       "  0.03850795701146126,\n",
       "  -0.016059698536992073,\n",
       "  -0.030884625390172005,\n",
       "  -0.011819906532764435,\n",
       "  0.002557133324444294,\n",
       "  0.0021334607154130936,\n",
       "  0.047777209430933,\n",
       "  -0.009672032669186592,\n",
       "  -0.029994826763868332,\n",
       "  -0.00010123717220267281,\n",
       "  -0.0011726729571819305,\n",
       "  0.006759018171578646,\n",
       "  0.0006800602423027158,\n",
       "  0.015295682474970818,\n",
       "  0.017835363745689392,\n",
       "  0.0035096679348498583,\n",
       "  -0.020027341321110725,\n",
       "  -0.024682777002453804,\n",
       "  0.0070373485796153545,\n",
       "  -0.00320556596852839,\n",
       "  0.005781072657555342,\n",
       "  -0.009357409551739693,\n",
       "  0.02221575193107128,\n",
       "  -0.013843106105923653,\n",
       "  -0.038415390998125076,\n",
       "  -0.060277681797742844,\n",
       "  0.009737344458699226,\n",
       "  0.009393562562763691,\n",
       "  0.015486699528992176,\n",
       "  -0.010100875049829483,\n",
       "  0.03568000718951225,\n",
       "  0.06997564435005188,\n",
       "  -0.007069679908454418,\n",
       "  0.019642356783151627,\n",
       "  0.06429930776357651,\n",
       "  0.0038846079260110855,\n",
       "  0.00574006512761116,\n",
       "  0.0534910187125206,\n",
       "  -0.013547966256737709,\n",
       "  0.0027230228297412395,\n",
       "  -0.03373225778341293,\n",
       "  0.0025927245151251554,\n",
       "  -0.009318359196186066,\n",
       "  -0.04233379289507866,\n",
       "  -0.003610314102843404,\n",
       "  0.03697046637535095,\n",
       "  0.012782626785337925,\n",
       "  -0.0031032410915941,\n",
       "  0.005558626260608435,\n",
       "  0.036724042147397995,\n",
       "  -0.03743678703904152,\n",
       "  -0.0011805951362475753,\n",
       "  -0.04012606292963028,\n",
       "  -0.050232287496328354,\n",
       "  0.0006291365716606379,\n",
       "  -0.038800690323114395,\n",
       "  -0.028561057522892952,\n",
       "  -0.07356144487857819,\n",
       "  -0.010841603390872478,\n",
       "  0.09681620448827744,\n",
       "  -0.01708269864320755,\n",
       "  -0.030110346153378487,\n",
       "  -0.055652763694524765,\n",
       "  -0.011535520665347576,\n",
       "  -0.06813915818929672,\n",
       "  -0.0026798760518431664,\n",
       "  -0.0023304021451622248,\n",
       "  0.10282352566719055,\n",
       "  -0.006370748393237591,\n",
       "  0.02624383755028248,\n",
       "  0.01782011240720749,\n",
       "  0.02419091947376728,\n",
       "  -0.006304382812231779,\n",
       "  -0.01001843810081482,\n",
       "  0.011033897288143635,\n",
       "  -0.005022172350436449,\n",
       "  0.00682309502735734,\n",
       "  -0.05689902976155281,\n",
       "  -0.03995175287127495,\n",
       "  0.0237296000123024,\n",
       "  0.09703902155160904,\n",
       "  0.002442159689962864,\n",
       "  -0.06391218304634094,\n",
       "  0.013473141007125378,\n",
       "  -0.028265487402677536,\n",
       "  -0.08916561305522919,\n",
       "  0.016378799453377724,\n",
       "  -0.030829215422272682,\n",
       "  -0.059749115258455276,\n",
       "  -0.02848948910832405,\n",
       "  0.02782403491437435,\n",
       "  0.030102774500846863,\n",
       "  0.06353399902582169,\n",
       "  -0.005126899108290672,\n",
       "  0.01526542566716671,\n",
       "  0.045666735619306564,\n",
       "  0.04048572853207588,\n",
       "  0.05178045853972435,\n",
       "  0.053352199494838715,\n",
       "  0.057050541043281555,\n",
       "  -0.016968270763754845,\n",
       "  0.0297874603420496,\n",
       "  -0.025187013670802116,\n",
       "  -0.016887256875634193,\n",
       "  -0.02150544710457325,\n",
       "  -0.01580570824444294,\n",
       "  0.022604364901781082,\n",
       "  0.014124823734164238,\n",
       "  -0.04510705918073654,\n",
       "  0.020125461742281914,\n",
       "  0.03198137879371643,\n",
       "  0.044876888394355774,\n",
       "  0.01415619533509016,\n",
       "  -0.049077656120061874,\n",
       "  0.09117691963911057,\n",
       "  -0.010216227732598782,\n",
       "  0.01446777954697609,\n",
       "  -0.032431554049253464,\n",
       "  0.08561167865991592,\n",
       "  -0.024448417127132416,\n",
       "  0.04071832448244095,\n",
       "  0.0022823980543762445,\n",
       "  0.024597113952040672,\n",
       "  0.041396528482437134,\n",
       "  -0.00035235576797276735,\n",
       "  0.018689991906285286,\n",
       "  0.048777274787425995,\n",
       "  -0.015049061737954617,\n",
       "  0.008631003089249134,\n",
       "  -0.01566736027598381,\n",
       "  -0.02679348737001419,\n",
       "  0.028046196326613426,\n",
       "  0.007452637888491154,\n",
       "  0.0030038789846003056,\n",
       "  -0.0126644941046834,\n",
       "  0.08321057260036469,\n",
       "  0.05179372802376747,\n",
       "  -0.06525234133005142,\n",
       "  -0.018250590190291405,\n",
       "  -0.05663550645112991,\n",
       "  -0.04823779687285423,\n",
       "  0.041285112500190735,\n",
       "  -0.052418388426303864,\n",
       "  -0.007386914920061827,\n",
       "  0.00869190227240324,\n",
       "  0.07070904970169067,\n",
       "  -0.004550975747406483,\n",
       "  -0.006777591537684202,\n",
       "  0.019933147355914116,\n",
       "  -0.022423014044761658,\n",
       "  0.03628699108958244,\n",
       "  0.03968934342265129,\n",
       "  -0.011870987713336945,\n",
       "  0.0050199516117572784,\n",
       "  0.05177566409111023,\n",
       "  0.004623052664101124,\n",
       "  0.009661681950092316,\n",
       "  0.022476371377706528,\n",
       "  0.013406102545559406,\n",
       "  -0.019811982288956642,\n",
       "  0.060908399522304535,\n",
       "  -0.019924847409129143,\n",
       "  0.054649192839860916,\n",
       "  0.03602030500769615,\n",
       "  -0.028224118053913116,\n",
       "  -0.046437837183475494,\n",
       "  -0.02320503629744053,\n",
       "  0.008012516424059868,\n",
       "  -0.018377622589468956,\n",
       "  0.019024483859539032,\n",
       "  -0.0536147877573967,\n",
       "  -0.016932720318436623,\n",
       "  -0.03362715244293213,\n",
       "  -0.04298268258571625,\n",
       "  0.05227480083703995,\n",
       "  -0.04672407731413841,\n",
       "  -0.03644877299666405,\n",
       "  -0.034066908061504364,\n",
       "  0.10566709190607071,\n",
       "  -0.022567957639694214,\n",
       "  0.043259456753730774,\n",
       "  -0.055733293294906616,\n",
       "  0.020870158448815346,\n",
       "  -0.008086241781711578,\n",
       "  0.0290228184312582,\n",
       "  0.008333082310855389,\n",
       "  0.009919805452227592,\n",
       "  -0.03159404546022415,\n",
       "  -0.010201627388596535,\n",
       "  -0.03386310487985611,\n",
       "  0.04638969525694847,\n",
       "  -0.01316212210804224,\n",
       "  -0.06984566897153854,\n",
       "  0.017526868730783463,\n",
       "  -0.017500950023531914,\n",
       "  0.024348651990294456,\n",
       "  0.01147058792412281,\n",
       "  0.017868712544441223,\n",
       "  0.09694786369800568,\n",
       "  -0.014208351261913776,\n",
       "  0.02649649605154991,\n",
       "  0.06604126840829849,\n",
       "  -0.04226101562380791,\n",
       "  0.035094890743494034,\n",
       "  0.007568005472421646,\n",
       "  0.04718064144253731,\n",
       "  -0.03723906725645065,\n",
       "  -0.005453766323626041,\n",
       "  0.025987984612584114,\n",
       "  0.0467258095741272,\n",
       "  -0.03954154625535011,\n",
       "  0.008529381826519966,\n",
       "  -0.02614739164710045,\n",
       "  0.009748470969498158,\n",
       "  0.03146224841475487,\n",
       "  0.011851859278976917,\n",
       "  0.0012304882984608412,\n",
       "  -0.05372537299990654,\n",
       "  -0.021081188693642616,\n",
       "  0.014186029322445393,\n",
       "  -0.0011674368288367987,\n",
       "  -0.048549361526966095,\n",
       "  0.03297122195363045,\n",
       "  -0.018512975424528122,\n",
       "  -0.05430109053850174,\n",
       "  0.010652457363903522,\n",
       "  0.022957103326916695,\n",
       "  -0.004830202087759972,\n",
       "  -0.020359741523861885,\n",
       "  -0.028282267972826958,\n",
       "  -0.0040793586522340775,\n",
       "  -0.03148161992430687,\n",
       "  0.017315315082669258,\n",
       "  0.060255516320466995,\n",
       "  -0.03220166265964508,\n",
       "  0.014566266909241676,\n",
       "  -0.028144678100943565,\n",
       "  0.06251253187656403,\n",
       "  -0.017407160252332687,\n",
       "  -0.037084247916936874,\n",
       "  -0.010420599021017551,\n",
       "  -0.016225069761276245,\n",
       "  0.0027553339023143053,\n",
       "  0.05229783058166504,\n",
       "  0.03815658390522003,\n",
       "  -0.0034852949902415276,\n",
       "  -0.05417780950665474,\n",
       "  0.019316691905260086,\n",
       "  0.01609339565038681,\n",
       "  0.12360966950654984,\n",
       "  0.027201354503631592,\n",
       "  -0.001530147041194141,\n",
       "  0.0009695750195533037,\n",
       "  0.010526999831199646,\n",
       "  -0.030012642964720726,\n",
       "  -0.0021461453288793564,\n",
       "  -0.024349210783839226,\n",
       "  0.01454432774335146,\n",
       "  -0.04196450859308243,\n",
       "  -0.044094979763031006,\n",
       "  0.053689900785684586,\n",
       "  0.015423758886754513,\n",
       "  0.00886706355959177,\n",
       "  -0.019227586686611176,\n",
       "  0.01844613254070282,\n",
       "  0.02674976736307144,\n",
       "  -0.05358995497226715,\n",
       "  0.041280586272478104,\n",
       "  0.03023608773946762,\n",
       "  -0.05188304930925369,\n",
       "  -0.004037411417812109,\n",
       "  0.037736669182777405,\n",
       "  0.0364936999976635,\n",
       "  -0.04417983442544937,\n",
       "  0.01632797159254551,\n",
       "  0.0018727659480646253,\n",
       "  0.04630577936768532,\n",
       "  0.015920942649245262,\n",
       "  0.020518647506833076,\n",
       "  0.020034415647387505,\n",
       "  0.025438599288463593,\n",
       "  -0.005091296974569559,\n",
       "  0.0022769540082663298,\n",
       "  -0.03764592856168747,\n",
       "  -0.029205186292529106,\n",
       "  0.04541659355163574,\n",
       "  -0.033897437155246735,\n",
       "  -0.04280415177345276,\n",
       "  0.03330199420452118,\n",
       "  0.0016310292994603515,\n",
       "  -0.05456912890076637,\n",
       "  -6.666593601445917e-33,\n",
       "  0.013117612339556217,\n",
       "  -0.0072928499430418015,\n",
       "  0.058225952088832855,\n",
       "  -4.325925328885205e-05,\n",
       "  -0.09790300577878952,\n",
       "  0.027875680476427078,\n",
       "  0.007602076977491379,\n",
       "  0.008150915615260601,\n",
       "  0.004129914101213217,\n",
       "  0.00919140875339508,\n",
       "  0.01800633780658245,\n",
       "  -0.049372173845767975,\n",
       "  -0.016903158277273178,\n",
       "  -0.049980830401182175,\n",
       "  0.034477684646844864,\n",
       "  -0.02675912342965603,\n",
       "  -0.033433329313993454,\n",
       "  -0.023625757545232773,\n",
       "  -0.03569449856877327,\n",
       "  -0.009022137150168419,\n",
       "  0.004625952802598476,\n",
       "  -0.0027610233519226313,\n",
       "  -0.01486759539693594,\n",
       "  -0.0326167531311512,\n",
       "  -0.009286599233746529,\n",
       "  0.05322324112057686,\n",
       "  -0.011165832169353962,\n",
       "  -0.02030305005609989,\n",
       "  0.04862591624259949,\n",
       "  -0.020953038707375526,\n",
       "  -0.007514083757996559,\n",
       "  -0.010761735029518604,\n",
       "  -0.0022323571611195803,\n",
       "  -0.05584952235221863,\n",
       "  0.0005217700381763279,\n",
       "  -0.008808117359876633,\n",
       "  -0.0756712555885315,\n",
       "  -0.05587758496403694,\n",
       "  0.027775974944233894,\n",
       "  0.01640397310256958,\n",
       "  -0.022810323163866997,\n",
       "  0.013670719228684902,\n",
       "  0.007751333061605692,\n",
       "  -0.002702502068132162,\n",
       "  0.0012081825407221913,\n",
       "  -0.03684615343809128,\n",
       "  -0.05710507929325104,\n",
       "  -0.01646912656724453,\n",
       "  0.01160377450287342,\n",
       "  0.003295977134257555,\n",
       "  -0.015876099467277527,\n",
       "  0.02491064928472042,\n",
       "  0.05259326845407486,\n",
       "  -0.06031113117933273,\n",
       "  0.02320028282701969,\n",
       "  0.017204446718096733,\n",
       "  -0.02907417342066765,\n",
       "  -0.04194940999150276,\n",
       "  -0.019395295530557632,\n",
       "  0.012308436445891857,\n",
       "  0.0029746978543698788,\n",
       "  0.00619878713041544,\n",
       "  -0.03053092211484909,\n",
       "  -0.008354036137461662,\n",
       "  0.022003209218382835,\n",
       "  -0.0015500538283959031,\n",
       "  0.0613982230424881,\n",
       "  -0.0046577975153923035,\n",
       "  0.07810371369123459,\n",
       "  0.08958689123392105,\n",
       "  -0.0031008669175207615,\n",
       "  -0.013875909149646759,\n",
       "  -0.0039418661035597324,\n",
       "  -0.08562363684177399,\n",
       "  0.04482852667570114,\n",
       "  0.05862966552376747,\n",
       "  0.029204053804278374,\n",
       "  -0.006805802695453167,\n",
       "  0.0016101086512207985,\n",
       "  0.014984887093305588,\n",
       "  -0.042893581092357635,\n",
       "  0.027047859504818916,\n",
       "  -0.005689133424311876,\n",
       "  -0.019215382635593414,\n",
       "  0.012109518982470036,\n",
       "  0.05097189545631409,\n",
       "  -0.014845720492303371,\n",
       "  -0.04133624583482742,\n",
       "  -0.013068733736872673,\n",
       "  0.022509876638650894,\n",
       "  0.05470484122633934,\n",
       "  0.05475936830043793,\n",
       "  -0.0035010662395507097,\n",
       "  0.045634739100933075,\n",
       "  0.007629202213138342,\n",
       "  -0.02626648172736168,\n",
       "  0.03763267770409584,\n",
       "  -0.014584374614059925,\n",
       "  0.009244199842214584,\n",
       "  -0.024323977530002594,\n",
       "  0.01709175296127796,\n",
       "  0.012487097643315792,\n",
       "  -0.040772952139377594,\n",
       "  0.02630310133099556,\n",
       "  0.013432878069579601,\n",
       "  -0.012154445052146912,\n",
       "  0.0354497991502285,\n",
       "  0.015725072473287582,\n",
       "  0.0032258310820907354,\n",
       "  0.014323734678328037,\n",
       "  0.02200142852962017,\n",
       "  -0.01936239004135132,\n",
       "  0.07446885108947754,\n",
       "  -0.02759365551173687,\n",
       "  0.03045961633324623,\n",
       "  -0.019822709262371063,\n",
       "  -0.009047514759004116,\n",
       "  0.09925602376461029,\n",
       "  -0.013821601867675781,\n",
       "  -0.07789352536201477,\n",
       "  -0.04378572106361389,\n",
       "  0.01003782358020544,\n",
       "  0.011446911841630936,\n",
       "  0.07843547314405441,\n",
       "  -0.014606052078306675,\n",
       "  -0.023230675607919693,\n",
       "  0.004010731354355812,\n",
       "  -0.014690582640469074,\n",
       "  -0.09133775532245636,\n",
       "  -0.04794108495116234,\n",
       "  0.0162854865193367,\n",
       "  -0.045027781277894974,\n",
       "  3.086092874582391e-07,\n",
       "  -0.0765007808804512,\n",
       "  0.023085452616214752,\n",
       "  0.008881443180143833,\n",
       "  -0.030770866200327873,\n",
       "  0.03516087308526039,\n",
       "  -0.07875364273786545,\n",
       "  0.001726626418530941,\n",
       "  -0.0034950408153235912,\n",
       "  0.008481387048959732,\n",
       "  0.048162464052438736,\n",
       "  0.005023592617362738,\n",
       "  -0.030981576070189476,\n",
       "  -0.04074482619762421,\n",
       "  -0.006563211791217327,\n",
       "  0.07432051748037338,\n",
       "  -0.03749530389904976,\n",
       "  -0.010919936001300812,\n",
       "  0.019440749660134315,\n",
       "  0.008032512851059437,\n",
       "  -0.021060839295387268,\n",
       "  0.020386265590786934,\n",
       "  -0.012224874459207058,\n",
       "  -0.02808075211942196,\n",
       "  0.020333075895905495,\n",
       "  0.010878924280405045,\n",
       "  -0.07322558760643005,\n",
       "  -0.013863665983080864,\n",
       "  0.005021314602345228,\n",
       "  -0.007351287174969912,\n",
       "  0.029539329931139946,\n",
       "  0.035253386944532394,\n",
       "  0.09634511917829514,\n",
       "  -0.0002267886302433908,\n",
       "  -0.03407222405076027,\n",
       "  -0.026649300009012222,\n",
       "  -0.024103084579110146,\n",
       "  0.004209062550216913,\n",
       "  -0.01949656940996647,\n",
       "  -0.022537827491760254,\n",
       "  0.06863146275281906,\n",
       "  0.003835999872535467,\n",
       "  0.03826238587498665,\n",
       "  -0.027861949056386948,\n",
       "  -0.008478519506752491,\n",
       "  0.050001539289951324,\n",
       "  -0.10521792620420456,\n",
       "  -0.0034110683482140303,\n",
       "  0.019959738478064537,\n",
       "  -0.013829139992594719,\n",
       "  -0.04058301821351051,\n",
       "  0.011901305057108402,\n",
       "  -0.0018986008362844586,\n",
       "  -0.022446056827902794,\n",
       "  0.04526923969388008,\n",
       "  0.006517463829368353,\n",
       "  0.06474578380584717,\n",
       "  -0.013605344109237194,\n",
       "  -0.009988329373300076,\n",
       "  0.03634781390428543,\n",
       "  0.015292135998606682,\n",
       "  -0.04141874238848686,\n",
       "  0.003795806784182787,\n",
       "  -0.007040879689157009,\n",
       "  0.04083207994699478,\n",
       "  -0.047680940479040146,\n",
       "  -0.019072620198130608,\n",
       "  -0.06734633445739746,\n",
       "  3.338321763566235e-34,\n",
       "  -0.017527922987937927,\n",
       "  -0.01906590908765793,\n",
       "  0.0211387537419796,\n",
       "  -0.009153633378446102,\n",
       "  0.006335805170238018,\n",
       "  -0.0028690705075860023,\n",
       "  0.028642596676945686,\n",
       "  -0.0043520210310816765,\n",
       "  0.023219551891088486,\n",
       "  0.001965435454621911,\n",
       "  -0.022216519340872765]}"
      ]
     },
     "execution_count": 25,
     "metadata": {},
     "output_type": "execute_result"
    }
   ],
   "source": [
    "operations[0]"
   ]
  },
  {
   "cell_type": "code",
   "execution_count": 26,
   "id": "dfbc2467",
   "metadata": {},
   "outputs": [],
   "source": [
    "# create mappings and index\n",
    "index_settings = {\n",
    "    \"settings\": {\n",
    "        \"number_of_shards\": 1,\n",
    "        \"number_of_replicas\": 0\n",
    "    },\n",
    "    \"mappings\": {\n",
    "        \"properties\": {\n",
    "            \"text\": {\"type\": \"text\"},\n",
    "            \"section\": {\"type\": \"text\"},\n",
    "            \"question\": {\"type\": \"text\"},\n",
    "            \"course\": {\"type\": \"keyword\"},\n",
    "            \"text_vector\": {\"type\": \"dense_vector\", \"dims\": 768, \"index\": True, \"similarity\": \"cosine\"},\n",
    "        }\n",
    "    }\n",
    "}\n",
    "\n",
    "index_name = \"running-questions\""
   ]
  },
  {
   "cell_type": "code",
   "execution_count": 27,
   "id": "e26f1814",
   "metadata": {},
   "outputs": [
    {
     "name": "stderr",
     "output_type": "stream",
     "text": [
      "/tmp/ipykernel_4735/1308020260.py:2: DeprecationWarning: Passing transport options in the API method is deprecated. Use 'Elasticsearch.options()' instead.\n",
      "  es_client.indices.create(index=index_name, body=index_settings, request_timeout=60)\n"
     ]
    },
    {
     "data": {
      "text/plain": [
       "ObjectApiResponse({'acknowledged': True, 'shards_acknowledged': True, 'index': 'running-questions'})"
      ]
     },
     "execution_count": 27,
     "metadata": {},
     "output_type": "execute_result"
    }
   ],
   "source": [
    "es_client.indices.delete(index=index_name, ignore_unavailable=True)\n",
    "es_client.indices.create(index=index_name, body=index_settings, request_timeout=60)"
   ]
  },
  {
   "cell_type": "code",
   "execution_count": 28,
   "id": "7839b4f5",
   "metadata": {},
   "outputs": [
    {
     "name": "stderr",
     "output_type": "stream",
     "text": [
      "  0%|          | 0/98 [00:00<?, ?it/s]/tmp/ipykernel_4735/2787033556.py:4: DeprecationWarning: Passing transport options in the API method is deprecated. Use 'Elasticsearch.options()' instead.\n",
      "  es_client.index(index=index_name, document=doc, request_timeout=60)\n",
      "100%|██████████| 98/98 [00:03<00:00, 29.01it/s]\n"
     ]
    }
   ],
   "source": [
    "# add documents to index\n",
    "for doc in tqdm(documents):\n",
    "    try:\n",
    "        es_client.index(index=index_name, document=doc, request_timeout=60)\n",
    "    except Exception as e:\n",
    "        print(e)"
   ]
  },
  {
   "cell_type": "code",
   "execution_count": 29,
   "id": "40d077ff",
   "metadata": {},
   "outputs": [],
   "source": [
    "query = 'Was ist Intervalltraining?'\n",
    "vector_search_term = model.encode(query)"
   ]
  },
  {
   "cell_type": "code",
   "execution_count": 30,
   "id": "926aa8f9",
   "metadata": {},
   "outputs": [],
   "source": [
    "search_query = {\n",
    "    \"field\": \"text_vector\",\n",
    "    \"query_vector\": vector_search_term,\n",
    "    \"k\": 3,\n",
    "    \"num_candidates\": 10000, \n",
    "}"
   ]
  },
  {
   "cell_type": "code",
   "execution_count": 31,
   "id": "46dff3c6",
   "metadata": {},
   "outputs": [
    {
     "data": {
      "text/plain": [
       "[{'_index': 'running-questions',\n",
       "  '_id': 'GlP_nJcB5tLelV9K5xL2',\n",
       "  '_score': 0.8421757,\n",
       "  '_source': {'text': 'Intervalltraining steigert die anaerobe Kapazität und verbessert die Schnelligkeit.',\n",
       "   'section': 'Training',\n",
       "   'question': 'Was bringt Intervalltraining beim Laufen?',\n",
       "   'course': 'running-assistant-rag'}},\n",
       " {'_index': 'running-questions',\n",
       "  '_id': 'w1P_nJcB5tLelV9K3BES',\n",
       "  '_score': 0.8411081,\n",
       "  '_source': {'text': 'Intervalltraining ist eine Trainingsmethode, bei der sich intensive Belastungsphasen mit Erholungsphasen abwechseln. Durch diese Wechsel zwischen hoher und niedriger Belastung werden Ausdauer und Schnelligkeit effektiv verbessert, da der Körper sowohl anaerob als auch aerob gefordert wird.',\n",
       "   'section': 'Training',\n",
       "   'question': 'Was ist Intervalltraining?',\n",
       "   'course': 'running-assistant-rag'}},\n",
       " {'_index': 'running-questions',\n",
       "  '_id': 'H1P_nJcB5tLelV9K6BJ8',\n",
       "  '_score': 0.8202045,\n",
       "  '_source': {'text': 'Das Laufen im Intervall kann den Stoffwechsel anregen und Fettverbrennung fördern.',\n",
       "   'section': 'Training',\n",
       "   'question': 'Wie unterstützt Intervalltraining die Fettverbrennung?',\n",
       "   'course': 'running-assistant-rag'}}]"
      ]
     },
     "execution_count": 31,
     "metadata": {},
     "output_type": "execute_result"
    }
   ],
   "source": [
    "res = es_client.search(index=index_name, knn=search_query, source=[\"text\", \"section\", \"question\", \"course\"])\n",
    "res[\"hits\"][\"hits\"]"
   ]
  },
  {
   "cell_type": "code",
   "execution_count": 32,
   "id": "90c4cb66",
   "metadata": {},
   "outputs": [],
   "source": [
    "def vector_search(query):\n",
    "    vector_search_term = model.encode(query)\n",
    "    search_query = {\n",
    "    \"field\": \"text_vector\",\n",
    "    \"query_vector\": vector_search_term,\n",
    "    \"k\": 5,\n",
    "    \"num_candidates\": 10000, \n",
    "    }\n",
    "\n",
    "    response = es_client.search(index=index_name, knn=search_query, source=[\"text\", \"section\", \"question\", \"course\"])\n",
    "    \n",
    "    result_docs = []\n",
    "    \n",
    "    for hit in response['hits']['hits']:\n",
    "        result_docs.append(hit['_source'])\n",
    "    \n",
    "    return result_docs"
   ]
  },
  {
   "cell_type": "code",
   "execution_count": 33,
   "id": "5107846b",
   "metadata": {},
   "outputs": [
    {
     "data": {
      "text/plain": [
       "[{'text': 'Laufschuhe mit zu wenig Dämpfung können zu Gelenkschmerzen führen, besonders bei längeren Läufen.',\n",
       "  'section': 'Ausrüstung',\n",
       "  'question': 'Welche Folgen kann zu wenig Dämpfung bei Laufschuhen haben?',\n",
       "  'course': 'running-assistant-rag'},\n",
       " {'text': 'Laufen verbessert die Herz-Kreislauf-Gesundheit durch Stärkung des Herzens und Senkung des Blutdrucks.',\n",
       "  'section': 'Gesundheit',\n",
       "  'question': 'Wie verbessert Laufen die Herzgesundheit?',\n",
       "  'course': 'running-assistant-rag'},\n",
       " {'text': 'Laufschuhe sollten vor dem Kauf idealerweise abends anprobiert werden, da die Füße im Tagesverlauf anschwellen.',\n",
       "  'section': 'Ausrüstung',\n",
       "  'question': 'Wann ist die beste Tageszeit, um Laufschuhe anzuprobieren?',\n",
       "  'course': 'running-assistant-rag'},\n",
       " {'text': 'Das Laufen auf der Mittelfußsohle wird oft als gesünder und effizienter angesehen als das Fersenlaufen.',\n",
       "  'section': 'Technik',\n",
       "  'question': 'Welche Lauftechnik ist gesünder: Mittelfuß- oder Fersenlauf?',\n",
       "  'course': 'running-assistant-rag'},\n",
       " {'text': 'Laufschuhe sollten eine längere Einlaufzeit haben, um sich an die Füße anzupassen und Blasen zu vermeiden.',\n",
       "  'section': 'Ausrüstung',\n",
       "  'question': 'Warum sollte man neue Laufschuhe einlaufen?',\n",
       "  'course': 'running-assistant-rag'}]"
      ]
     },
     "execution_count": 33,
     "metadata": {},
     "output_type": "execute_result"
    }
   ],
   "source": [
    "vector_search('Wie fange ich mit dem Laufen an?')"
   ]
  },
  {
   "cell_type": "code",
   "execution_count": 34,
   "id": "810f7222",
   "metadata": {},
   "outputs": [],
   "source": [
    "def rag_pipeline(query):\n",
    "    print('using vector search')\n",
    "    context_docs = vector_search(query)\n",
    "    prompt = build_prompt(query, context_docs)\n",
    "    answer = llm(prompt)\n",
    "    return answer"
   ]
  },
  {
   "cell_type": "code",
   "execution_count": 35,
   "id": "77317450",
   "metadata": {},
   "outputs": [],
   "source": [
    "query = 'Wie fange ich mit dem Laufen an?'"
   ]
  },
  {
   "cell_type": "code",
   "execution_count": 36,
   "id": "ea3f8148",
   "metadata": {},
   "outputs": [
    {
     "name": "stdout",
     "output_type": "stream",
     "text": [
      "using vector search\n"
     ]
    },
    {
     "data": {
      "text/plain": [
       "'Um mit dem Laufen zu beginnen, ist es wichtig, einige grundlegende Überlegungen anzustellen. Zunächst solltest du in gute Laufschuhe investieren, die genügend Dämpfung bieten, um Gelenkschmerzen zu vermeiden, besonders wenn du längere Strecken planst. Es wird empfohlen, die Laufschuhe abends anzuprobieren, da die Füße im Laufe des Tages anschwellen, und sie vor dem regulären Training einzulaufen, um Blasen zu vermeiden. Bei der Technik kann es hilfreich sein, sich auf das Laufen auf der Mittelfußsohle zu konzentrieren, da dies oft als gesünder und effizienter gilt als das Fersenlaufen. Wenn du diese Tipps befolgst, legst du einen soliden Grundstein für deinen Start ins Laufen.'"
      ]
     },
     "execution_count": 36,
     "metadata": {},
     "output_type": "execute_result"
    }
   ],
   "source": [
    "# answer using qa documents for rag\n",
    "rag_pipeline(query)"
   ]
  },
  {
   "cell_type": "markdown",
   "id": "1e84fdd2",
   "metadata": {},
   "source": [
    "# Rag with qdrant"
   ]
  },
  {
   "cell_type": "code",
   "execution_count": 7,
   "id": "d4f9eae6",
   "metadata": {},
   "outputs": [],
   "source": [
    "from qdrant_client import QdrantClient, models"
   ]
  },
  {
   "cell_type": "code",
   "execution_count": 8,
   "id": "d6a51e75",
   "metadata": {},
   "outputs": [],
   "source": [
    "qd_client = QdrantClient(\"http://localhost:6333\")"
   ]
  },
  {
   "cell_type": "code",
   "execution_count": 9,
   "id": "26dfb45d",
   "metadata": {},
   "outputs": [],
   "source": [
    "EMBEDDING_DIMENSIONALITY = 512\n",
    "model_handle = \"jinaai/jina-embeddings-v2-small-en\""
   ]
  },
  {
   "cell_type": "code",
   "execution_count": 10,
   "id": "0a2d2b65",
   "metadata": {},
   "outputs": [],
   "source": [
    "collection_name = \"running-faq\""
   ]
  },
  {
   "cell_type": "code",
   "execution_count": 38,
   "id": "14aa97e2",
   "metadata": {},
   "outputs": [
    {
     "data": {
      "text/plain": [
       "True"
      ]
     },
     "execution_count": 38,
     "metadata": {},
     "output_type": "execute_result"
    }
   ],
   "source": [
    "qd_client.delete_collection(collection_name=collection_name)"
   ]
  },
  {
   "cell_type": "code",
   "execution_count": 39,
   "id": "08681f7c",
   "metadata": {},
   "outputs": [
    {
     "data": {
      "text/plain": [
       "True"
      ]
     },
     "execution_count": 39,
     "metadata": {},
     "output_type": "execute_result"
    }
   ],
   "source": [
    "qd_client.create_collection(\n",
    "    collection_name=collection_name,\n",
    "    vectors_config=models.VectorParams(\n",
    "        size=EMBEDDING_DIMENSIONALITY,\n",
    "        distance=models.Distance.COSINE\n",
    "    )\n",
    ")"
   ]
  },
  {
   "cell_type": "code",
   "execution_count": null,
   "id": "7ec41e7d",
   "metadata": {},
   "outputs": [
    {
     "data": {
      "text/plain": [
       "UpdateResult(operation_id=1, status=<UpdateStatus.COMPLETED: 'completed'>)"
      ]
     },
     "execution_count": 30,
     "metadata": {},
     "output_type": "execute_result"
    }
   ],
   "source": [
    "# qd_client.create_payload_index(\n",
    "#     collection_name=collection_name,\n",
    "#     field_name=\"course\",\n",
    "#     field_schema=\"keyword\"\n",
    "# )"
   ]
  },
  {
   "cell_type": "code",
   "execution_count": 40,
   "id": "51bdc24a",
   "metadata": {},
   "outputs": [],
   "source": [
    "points = []\n",
    "\n",
    "for i, doc in enumerate(documents):\n",
    "    text = doc['question'] + ' ' + doc['text']\n",
    "    vector = models.Document(text=text, model=model_handle)\n",
    "    point = models.PointStruct(\n",
    "        id=i,\n",
    "        vector=vector,\n",
    "        payload=doc\n",
    "    )\n",
    "    points.append(point)"
   ]
  },
  {
   "cell_type": "code",
   "execution_count": 41,
   "id": "ce31b243",
   "metadata": {},
   "outputs": [
    {
     "data": {
      "text/plain": [
       "PointStruct(id=0, vector=Document(text='Was ist Intervalltraining? Intervalltraining ist eine Trainingsmethode, bei der sich intensive Belastungsphasen mit Erholungsphasen abwechseln. Durch diese Wechsel zwischen hoher und niedriger Belastung werden Ausdauer und Schnelligkeit effektiv verbessert, da der Körper sowohl anaerob als auch aerob gefordert wird.', model='jinaai/jina-embeddings-v2-small-en', options=None), payload={'text': 'Intervalltraining ist eine Trainingsmethode, bei der sich intensive Belastungsphasen mit Erholungsphasen abwechseln. Durch diese Wechsel zwischen hoher und niedriger Belastung werden Ausdauer und Schnelligkeit effektiv verbessert, da der Körper sowohl anaerob als auch aerob gefordert wird.', 'section': 'Training', 'question': 'Was ist Intervalltraining?', 'course': 'running-assistant-rag'})"
      ]
     },
     "execution_count": 41,
     "metadata": {},
     "output_type": "execute_result"
    }
   ],
   "source": [
    "points[0]"
   ]
  },
  {
   "cell_type": "code",
   "execution_count": 42,
   "id": "428c0162",
   "metadata": {},
   "outputs": [
    {
     "data": {
      "text/plain": [
       "UpdateResult(operation_id=0, status=<UpdateStatus.COMPLETED: 'completed'>)"
      ]
     },
     "execution_count": 42,
     "metadata": {},
     "output_type": "execute_result"
    }
   ],
   "source": [
    "qd_client.upsert(\n",
    "    collection_name=collection_name,\n",
    "    points=points\n",
    ")"
   ]
  },
  {
   "cell_type": "code",
   "execution_count": 43,
   "id": "b616bfdc",
   "metadata": {},
   "outputs": [],
   "source": [
    "question = 'Wie fange ich mit dem Laufen an?'"
   ]
  },
  {
   "cell_type": "code",
   "execution_count": 44,
   "id": "2bf66cf8",
   "metadata": {},
   "outputs": [],
   "source": [
    "def vector_search(question):\n",
    "    print('vector_search is used')\n",
    "    \n",
    "    # course = 'data-engineering-zoomcamp'\n",
    "    query_points = qd_client.query_points(\n",
    "        collection_name=collection_name,\n",
    "        query=models.Document(\n",
    "            text=question,\n",
    "            model=model_handle \n",
    "        ),\n",
    "        limit=5,\n",
    "        with_payload=True\n",
    "    )\n",
    "    \n",
    "    results = []\n",
    "    \n",
    "    for point in query_points.points:\n",
    "        results.append(point.payload)\n",
    "    \n",
    "    return results"
   ]
  },
  {
   "cell_type": "code",
   "execution_count": 45,
   "id": "7739061c",
   "metadata": {},
   "outputs": [],
   "source": [
    "def rag(query):\n",
    "    search_results = vector_search(query)\n",
    "    prompt = build_prompt(query, search_results)\n",
    "    answer = llm(prompt)\n",
    "    return answer"
   ]
  },
  {
   "cell_type": "code",
   "execution_count": 46,
   "id": "1acf81a7",
   "metadata": {},
   "outputs": [
    {
     "name": "stdout",
     "output_type": "stream",
     "text": [
      "vector_search is used\n"
     ]
    },
    {
     "data": {
      "text/plain": [
       "'Um mit dem Laufen zu beginnen, ist es wichtig, zunächst auf die richtige Ausrüstung zu achten. Wählen Sie geeignete Laufschuhe basierend auf Ihrem Fußtyp und Laufstil, z.\\u202fB. Stabilitätsschuhe, wenn Sie zu Überpronation neigen, oder neutrale Schuhe, wenn Sie einen normalen Fuß haben. Achten Sie darauf, Schuhe abends anzuprobieren, da Ihre Füße im Tagesverlauf anschwellen. Außerdem sollten die Schuhe genügend Dämpfung bieten, um Gelenkschmerzen zu vermeiden, besonders bei längeren Läufen.'"
      ]
     },
     "execution_count": 46,
     "metadata": {},
     "output_type": "execute_result"
    }
   ],
   "source": [
    "rag('Wie fange ich mit dem Laufen an?')"
   ]
  },
  {
   "cell_type": "code",
   "execution_count": 49,
   "id": "b6fbe2cb",
   "metadata": {},
   "outputs": [
    {
     "name": "stdout",
     "output_type": "stream",
     "text": [
      "vector_search is used\n"
     ]
    },
    {
     "data": {
      "text/plain": [
       "[{'text': 'Das Tragen von reflektierender Kleidung erhöht die Sichtbarkeit und Sicherheit beim Laufen in der Dunkelheit.',\n",
       "  'section': 'Ausrüstung',\n",
       "  'question': 'Wie kann ich beim Laufen im Dunkeln sicherer sein?',\n",
       "  'course': 'running-assistant-rag'},\n",
       " {'text': 'Laufen kann die Knochendichte erhöhen und somit Osteoporose vorbeugen.',\n",
       "  'section': 'Gesundheit',\n",
       "  'question': 'Wie wirkt sich Laufen auf die Knochengesundheit aus?',\n",
       "  'course': 'running-assistant-rag'},\n",
       " {'text': 'Laufschuhe mit zu wenig Dämpfung können zu Gelenkschmerzen führen, besonders bei längeren Läufen.',\n",
       "  'section': 'Ausrüstung',\n",
       "  'question': 'Welche Folgen kann zu wenig Dämpfung bei Laufschuhen haben?',\n",
       "  'course': 'running-assistant-rag'},\n",
       " {'text': 'Laufschuhe sollten je nach Fußtyp und Laufstil ausgewählt werden, z.\\u202fB. Stabilitätsschuhe für Überpronierer oder neutrale Schuhe für Normalfußläufer.',\n",
       "  'section': 'Ausrüstung',\n",
       "  'question': 'Welche Laufschuhe eignen sich für Überpronierer?',\n",
       "  'course': 'running-assistant-rag'},\n",
       " {'text': 'Laufschuhe sollten vor dem Kauf idealerweise abends anprobiert werden, da die Füße im Tagesverlauf anschwellen.',\n",
       "  'section': 'Ausrüstung',\n",
       "  'question': 'Wann ist die beste Tageszeit, um Laufschuhe anzuprobieren?',\n",
       "  'course': 'running-assistant-rag'}]"
      ]
     },
     "execution_count": 49,
     "metadata": {},
     "output_type": "execute_result"
    }
   ],
   "source": [
    "vector_search('Wie fange ich mit dem Laufen an?')"
   ]
  },
  {
   "cell_type": "code",
   "execution_count": null,
   "id": "4127c255",
   "metadata": {},
   "outputs": [],
   "source": []
  }
 ],
 "metadata": {
  "kernelspec": {
   "display_name": "running-assistant-rag-j-iIWklV",
   "language": "python",
   "name": "python3"
  },
  "language_info": {
   "codemirror_mode": {
    "name": "ipython",
    "version": 3
   },
   "file_extension": ".py",
   "mimetype": "text/x-python",
   "name": "python",
   "nbconvert_exporter": "python",
   "pygments_lexer": "ipython3",
   "version": "3.12.1"
  }
 },
 "nbformat": 4,
 "nbformat_minor": 5
}
