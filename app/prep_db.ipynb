{
 "cells": [
  {
   "cell_type": "code",
   "execution_count": 1,
   "id": "6f1e6c7a",
   "metadata": {},
   "outputs": [
    {
     "name": "stderr",
     "output_type": "stream",
     "text": [
      "/home/codespace/.local/share/virtualenvs/running-assistant-rag-j-iIWklV/lib/python3.12/site-packages/tqdm/auto.py:21: TqdmWarning: IProgress not found. Please update jupyter and ipywidgets. See https://ipywidgets.readthedocs.io/en/stable/user_install.html\n",
      "  from .autonotebook import tqdm as notebook_tqdm\n"
     ]
    }
   ],
   "source": [
    "import os\n",
    "import json\n",
    "import pandas as pd\n",
    "from tqdm import tqdm\n",
    "from dotenv import load_dotenv\n",
    "\n",
    "from qdrant_client import QdrantClient, models"
   ]
  },
  {
   "cell_type": "code",
   "execution_count": 2,
   "id": "b5b8c462",
   "metadata": {},
   "outputs": [
    {
     "data": {
      "text/plain": [
       "True"
      ]
     },
     "execution_count": 2,
     "metadata": {},
     "output_type": "execute_result"
    }
   ],
   "source": [
    "load_dotenv()"
   ]
  },
  {
   "cell_type": "code",
   "execution_count": 24,
   "id": "d578f85f",
   "metadata": {},
   "outputs": [],
   "source": [
    "DATA_PATH = os.getenv(\"DATA_PATH\", \"../data\")\n",
    "\n",
    "QDRANT_URL = os.getenv(\"QDRANT_URL_LOCAL\")\n",
    "# MODEL_HANDLE = os.getenv(\"MODEL_NAME\")\n",
    "COLLECTION_NAME = os.getenv(\"COLLECTION_NAME\")"
   ]
  },
  {
   "cell_type": "code",
   "execution_count": 25,
   "id": "742328f2",
   "metadata": {},
   "outputs": [],
   "source": [
    "EMBEDDING_DIMENSIONALITY = 512\n",
    "qd_client = QdrantClient(QDRANT_URL)\n",
    "model_handle = 'jinaai/jina-embeddings-v2-small-en'\n",
    "collection_name = COLLECTION_NAME"
   ]
  },
  {
   "cell_type": "code",
   "execution_count": 5,
   "id": "c3afc583",
   "metadata": {},
   "outputs": [],
   "source": [
    "def load_documents():\n",
    "    with open(f'{DATA_PATH}/docs-with-ids.json', 'rt') as f_in:\n",
    "        documents = json.load(f_in)\n",
    "    return documents"
   ]
  },
  {
   "cell_type": "code",
   "execution_count": 6,
   "id": "a8f5fb13",
   "metadata": {},
   "outputs": [],
   "source": [
    "def load_ground_truth():\n",
    "    df_ground_truth = pd.read_csv(f'{DATA_PATH}/ground-truth-data.csv')\n",
    "    ground_truth = df_ground_truth.to_dict(orient=\"records\")\n",
    "    return ground_truth"
   ]
  },
  {
   "cell_type": "code",
   "execution_count": 7,
   "id": "40800fc7",
   "metadata": {},
   "outputs": [],
   "source": [
    "def initialize_qdrant_collection(collection_name, qd_client, embedding_dim: int = EMBEDDING_DIMENSIONALITY):\n",
    "    qd_client.delete_collection(collection_name=collection_name)\n",
    "\n",
    "    qd_client.create_collection(\n",
    "        collection_name=collection_name,\n",
    "        vectors_config=models.VectorParams(\n",
    "            size=embedding_dim,\n",
    "            distance=models.Distance.COSINE\n",
    "        )\n",
    "    )\n",
    "\n",
    "    print(f\"Qdrant collection '{collection_name}' has been created and initialized.\")"
   ]
  },
  {
   "cell_type": "code",
   "execution_count": 8,
   "id": "353244d6",
   "metadata": {},
   "outputs": [],
   "source": [
    "def build_qdrant_points(documents, model_handle):\n",
    "    points = []\n",
    "\n",
    "    for i, doc in enumerate(documents):\n",
    "        text = doc['question'] + ' ' + doc['text']\n",
    "        vector = models.Document(text=text, model=model_handle)\n",
    "\n",
    "        point = models.PointStruct(\n",
    "            id=i,\n",
    "            vector=vector,\n",
    "            payload=doc\n",
    "        )\n",
    "\n",
    "        points.append(point)\n",
    "\n",
    "    return points"
   ]
  },
  {
   "cell_type": "code",
   "execution_count": 9,
   "id": "fb423a5e",
   "metadata": {},
   "outputs": [],
   "source": [
    "def upsert_documents_to_qdrant(qd_client, collection_name, points):\n",
    "    qd_client.upsert(\n",
    "        collection_name=collection_name,\n",
    "        points=points\n",
    "    )\n",
    "    print(f\"Upserted {len(points)} documents to Qdrant collection '{collection_name}'.\")\n"
   ]
  },
  {
   "cell_type": "code",
   "execution_count": null,
   "id": "efafd76c",
   "metadata": {},
   "outputs": [],
   "source": [
    "def main():\n",
    "    print(\"Starting Qdrant indexing process...\")\n",
    "\n",
    "    documents = load_documents()\n",
    "    print(f\"Loaded {len(documents)} documents.\")\n",
    "\n",
    "    ground_truth = load_ground_truth()\n",
    "    print(f\"Loaded {len(ground_truth)} ground truth.\")\n",
    "\n",
    "    initialize_qdrant_collection(collection_name, qd_client)\n",
    "\n",
    "    points = build_qdrant_points(documents, model_handle)\n",
    "    print(f\"Built {len(points)} Qdrant points.\")\n",
    "\n",
    "    upsert_documents_to_qdrant(qd_client, collection_name, points)\n",
    "\n",
    "    print(\"Qdrant indexing process completed successfully.\")\n"
   ]
  },
  {
   "cell_type": "code",
   "execution_count": 26,
   "id": "0fcd8042",
   "metadata": {},
   "outputs": [
    {
     "name": "stdout",
     "output_type": "stream",
     "text": [
      "Starting Qdrant indexing process...\n",
      "Loaded 98 documents.\n",
      "Loaded 486 ground truth.\n",
      "Qdrant collection 'running-faq' has been created and initialized.\n",
      "Built 98 Qdrant points.\n",
      "Upserted 98 documents to Qdrant collection 'running-faq'.\n",
      "Qdrant indexing process completed successfully.\n"
     ]
    }
   ],
   "source": [
    "main()"
   ]
  },
  {
   "cell_type": "code",
   "execution_count": null,
   "id": "dc7d12d1",
   "metadata": {},
   "outputs": [],
   "source": []
  }
 ],
 "metadata": {
  "kernelspec": {
   "display_name": "running-assistant-rag-j-iIWklV",
   "language": "python",
   "name": "python3"
  },
  "language_info": {
   "codemirror_mode": {
    "name": "ipython",
    "version": 3
   },
   "file_extension": ".py",
   "mimetype": "text/x-python",
   "name": "python",
   "nbconvert_exporter": "python",
   "pygments_lexer": "ipython3",
   "version": "3.12.1"
  }
 },
 "nbformat": 4,
 "nbformat_minor": 5
}
